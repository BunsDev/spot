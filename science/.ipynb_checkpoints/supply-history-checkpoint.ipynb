{
 "cells": [
  {
   "cell_type": "code",
   "execution_count": null,
   "id": "535d1af1-2259-400c-95ef-4876c02ffd5b",
   "metadata": {},
   "outputs": [],
   "source": [
    "import os\n",
    "import re\n",
    "import json\n",
    "import time\n",
    "import requests\n",
    "from tqdm import tqdm\n",
    "\n",
    "import matplotlib.pyplot as plt\n",
    "import numpy as np\n",
    "import pandas as pd\n",
    "\n",
    "from web3 import Web3\n",
    "w3 = Web3(Web3.HTTPProvider('http://127.0.0.1:8545'))\n",
    "\n",
    "def exec(commandString):\n",
    "    output_stream = os.popen(commandString)\n",
    "    res = output_stream.read()\n",
    "    output_stream.close()\n",
    "    return res\n",
    "\n",
    "def extractAddress(response, label):\n",
    "    match = re.findall(re.escape(label) + r\"\\s+0x[a-fA-F0-9]{40}\", response)\n",
    "    return match[0].split()[-1]"
   ]
  },
  {
   "cell_type": "code",
   "execution_count": null,
   "id": "0e5985bc-2307-4e3d-859f-4a59a4d2ff43",
   "metadata": {},
   "outputs": [],
   "source": [
    "currentTime = int(time.time() * 1000)\n",
    "daySeconds = 24*3600\n",
    "dayMSeconds = 1000*daySeconds\n",
    "START_DATE = 1561687200000;\n",
    "END_DATE = currentTime  - dayMSeconds - (currentTime%dayMSeconds)\n",
    "nDAYS = 'max'\n",
    "AMPL_INITIAL_SUPPLY = 50000000\n",
    "\n",
    "amplHistroy = json.loads(requests.get('https://web-api.ampleforth.org/eth/token-rebase-history').content)\n",
    "amplDf = pd.DataFrame(amplHistroy, columns=['epoch', 'price', 'price_target', 'supply', 'time'])\n",
    "amplDf['time'] = (amplDf['time'] - (amplDf['time'] % daySeconds))\n",
    "amplDf['time'] = pd.to_datetime(amplDf['time'], unit='s')\n",
    "amplDf = amplDf.set_index('time')\n",
    "amplDf['marketcap'] = amplDf['price'] * amplDf['supply']"
   ]
  },
  {
   "cell_type": "code",
   "execution_count": null,
   "id": "2d3d8e23-2d7c-4f8b-9779-8b0efb344e0e",
   "metadata": {},
   "outputs": [
    {
     "ename": "NameError",
     "evalue": "name 'r' is not defined",
     "output_type": "error",
     "traceback": [
      "\u001b[0;31m---------------------------------------------------------------------------\u001b[0m",
      "\u001b[0;31mNameError\u001b[0m                                 Traceback (most recent call last)",
      "Input \u001b[0;32mIn [4]\u001b[0m, in \u001b[0;36m<cell line: 1>\u001b[0;34m()\u001b[0m\n\u001b[0;32m----> 1\u001b[0m plt\u001b[38;5;241m.\u001b[39mplot(amplDf[\u001b[38;5;124m'\u001b[39m\u001b[38;5;124msupply\u001b[39m\u001b[38;5;124m'\u001b[39m]\u001b[38;5;241m.\u001b[39mpct_change(periods\u001b[38;5;241m=\u001b[39m\u001b[38;5;241m28\u001b[39m)[\u001b[43mr\u001b[49m \u001b[38;5;241m<\u001b[39m \u001b[38;5;241m-\u001b[39m\u001b[38;5;241m0.65\u001b[39m])\n\u001b[1;32m      2\u001b[0m plt\u001b[38;5;241m.\u001b[39mshow()\n",
      "\u001b[0;31mNameError\u001b[0m: name 'r' is not defined"
     ]
    }
   ],
   "source": [
    "plt.plot(amplDf['supply'].pct_change(periods=28)[r < -0.65])\n",
    "plt.show()"
   ]
  }
 ],
 "metadata": {
  "kernelspec": {
   "display_name": "Python 3 (ipykernel)",
   "language": "python",
   "name": "python3"
  },
  "language_info": {
   "codemirror_mode": {
    "name": "ipython",
    "version": 3
   },
   "file_extension": ".py",
   "mimetype": "text/x-python",
   "name": "python",
   "nbconvert_exporter": "python",
   "pygments_lexer": "ipython3",
   "version": "3.9.0"
  }
 },
 "nbformat": 4,
 "nbformat_minor": 5
}
